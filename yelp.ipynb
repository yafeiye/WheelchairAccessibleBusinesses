{
 "cells": [
  {
   "cell_type": "code",
   "execution_count": 1,
   "metadata": {},
   "outputs": [],
   "source": [
    "import requests\n",
    "import numpy as np\n",
    "import pandas as pd\n",
    "import json\n",
    "import csv"
   ]
  },
  {
   "cell_type": "code",
   "execution_count": 2,
   "metadata": {},
   "outputs": [],
   "source": [
    "API_KEY = 'your_api_key'\n",
    "ENDPOINT = 'https://api.yelp.com/v3/businesses/search'\n",
    "HEADERS = {'Authorization': 'bearer %s' % API_KEY}"
   ]
  },
  {
   "cell_type": "markdown",
   "metadata": {},
   "source": [
    "Define a function to search wheelchair accessible businesses in London"
   ]
  },
  {
   "cell_type": "code",
   "execution_count": 3,
   "metadata": {},
   "outputs": [],
   "source": [
    "def search(category, limit, offset):\n",
    "    url_params = {\n",
    "        'location': 'London',\n",
    "        'categories': category,\n",
    "        'attributes': 'wheelchair_accessible',\n",
    "        'limit': limit,\n",
    "        'offset': offset\n",
    "    } \n",
    "    response = requests.get(url = ENDPOINT, params = url_params, headers = HEADERS)\n",
    "    business_data = response.json()\n",
    "    return business_data"
   ]
  },
  {
   "cell_type": "markdown",
   "metadata": {},
   "source": [
    "Define a function to search businesses in London"
   ]
  },
  {
   "cell_type": "code",
   "execution_count": 4,
   "metadata": {},
   "outputs": [],
   "source": [
    "def nonsearch(category, limit):\n",
    "    url_params = {\n",
    "        'location': 'London',\n",
    "        'categories': category,\n",
    "        'limit': limit,\n",
    "    } \n",
    "    response = requests.get(url = ENDPOINT, params = url_params, headers = HEADERS)\n",
    "    business_data = response.json()\n",
    "    return business_data"
   ]
  },
  {
   "cell_type": "code",
   "execution_count": 21,
   "metadata": {},
   "outputs": [],
   "source": [
    "number = search('eventservices', 1, 0)"
   ]
  },
  {
   "cell_type": "code",
   "execution_count": 22,
   "metadata": {},
   "outputs": [
    {
     "data": {
      "text/plain": [
       "53"
      ]
     },
     "execution_count": 22,
     "metadata": {},
     "output_type": "execute_result"
    }
   ],
   "source": [
    "number['total']"
   ]
  },
  {
   "cell_type": "markdown",
   "metadata": {},
   "source": [
    "Define a function to retrieve up to 1000 businesses by setting results and offset, and clean the data returned into DataFrame"
   ]
  },
  {
   "cell_type": "code",
   "execution_count": 7,
   "metadata": {},
   "outputs": [],
   "source": [
    "def CatFrame(category):\n",
    "    #\n",
    "    check = search(category, 50, 0)\n",
    "    total = check['total']\n",
    "    dict_out = []\n",
    "    results = 50\n",
    "    offset = 0\n",
    "    full_requests = int(np.floor(total/results))\n",
    "    remaining_requests = total%results\n",
    "    for i in range(1, full_requests + 2):\n",
    "        if i <= full_requests:\n",
    "            request = search(category, results, offset)\n",
    "        if i > full_requests:\n",
    "            request = search(category, remaining_requests, offset)\n",
    "        offset += results\n",
    "        dict_out.extend(request['businesses'])\n",
    "    df = pd.DataFrame.from_dict(dict_out)\n",
    "    df1 = pd.concat([df.drop(['coordinates'], axis=1), df['coordinates'].apply(pd.Series)], axis=1)\n",
    "    df2 = pd.concat([df1.drop(['location'], axis=1), df1['location'].apply(pd.Series)], axis=1)\n",
    "    df3 = pd.concat([df2.drop(['categories'], axis=1), df2['categories'].apply(pd.Series)], axis=1)\n",
    "    df4 = df3.rename(columns={0: 'category0', 1: 'category1', 2: 'category2'}, inplace=True)\n",
    "    final = pd.concat([df4.drop(['category0'], axis=1), final['category0'].apply(pd.Series)], axis=1)\n",
    "    return final"
   ]
  },
  {
   "cell_type": "code",
   "execution_count": 10,
   "metadata": {},
   "outputs": [],
   "source": [
    "categories = ['active', 'arts', 'auto', 'beautysvc', 'bicycles', 'education', 'eventservices', 'financialservices', 'food', 'health', 'homeservices', 'hotelstravel', 'localflavor', 'localservices', 'massmedia', 'nightlife', 'pets', 'professional', 'publicservicesgovt', 'realestate', 'religiousorgs', 'restaurants', 'shopping']\n",
    "#Categories: \n",
    "#1.Sports & Leisure (active, All); \n",
    "#2.Arts & Entertainment (arts, All); \n",
    "#3.Car & Motorcycle (auto, All); \n",
    "#4.Beauty & Spas (beautysvc, All); \n",
    "#5.Bicycles (bicycles, [CZ, PT, PL, DK]); \n",
    "#6.Education (education, All); \n",
    "#7.Event Planning & Event Services (eventservices, All); \n",
    "#8.Financial Services (financialservices, All); \n",
    "#9.Food (food, All); \n",
    "#10.Health & Medical (health, All); \n",
    "#11.Home Services (homeservices, All); \n",
    "#12.Hotel & Travel (hotelstravel, All); \n",
    "#13.Local Flavour (localflavor, All); \n",
    "#14.Local Services (localservices, All); \n",
    "#15.Mass Media (massmedia, All); \n",
    "#16.Nightlife (nightlife, All); \n",
    "#17.Pets (pets, All); \n",
    "#18.Professional Services (professional, All); \n",
    "#19.Government & Public Services (publicservicesgovt, All); \n",
    "#20.Property (realestate, All); \n",
    "#21.Religious Organisations (religiousorgs, All); \n",
    "#22.Restaurants (restaurants, All); \n",
    "#23.Shopping (shopping, All)"
   ]
  },
  {
   "cell_type": "code",
   "execution_count": null,
   "metadata": {},
   "outputs": [],
   "source": [
    "final = CatFrame('publicservicesgovt')"
   ]
  },
  {
   "cell_type": "code",
   "execution_count": null,
   "metadata": {},
   "outputs": [],
   "source": [
    "final"
   ]
  },
  {
   "cell_type": "markdown",
   "metadata": {},
   "source": [
    "Transfer the DataFrame into csv "
   ]
  },
  {
   "cell_type": "code",
   "execution_count": 16,
   "metadata": {},
   "outputs": [],
   "source": [
    "final.to_csv('publicservicesgovt.csv')"
   ]
  }
 ],
 "metadata": {
  "kernelspec": {
   "display_name": "Python 3",
   "language": "python",
   "name": "python3"
  },
  "language_info": {
   "codemirror_mode": {
    "name": "ipython",
    "version": 3
   },
   "file_extension": ".py",
   "mimetype": "text/x-python",
   "name": "python",
   "nbconvert_exporter": "python",
   "pygments_lexer": "ipython3",
   "version": "3.6.5"
  }
 },
 "nbformat": 4,
 "nbformat_minor": 2
}
